{
 "cells": [
  {
   "cell_type": "code",
   "execution_count": 1,
   "metadata": {},
   "outputs": [],
   "source": [
    "from bs4 import BeautifulSoup\n",
    "\n",
    "with open(\"doc.html\") as fp:\n",
    "    soup = BeautifulSoup(fp, \"html.parser\")"
   ]
  },
  {
   "cell_type": "code",
   "execution_count": 11,
   "metadata": {},
   "outputs": [],
   "source": [
    "with open(\"doc.html\") as fp:\n",
    "    text = ' '.join(BeautifulSoup(fp, \"html.parser\").stripped_strings)\n"
   ]
  },
  {
   "cell_type": "code",
   "execution_count": 14,
   "metadata": {},
   "outputs": [
    {
     "data": {
      "text/plain": [
       "\"\\\\n 1977 Australian Open \\\\u2013 Men's singles There were two Australian Opens in 1977: \\\\n\\\\n 1977\\n                    Australian Open (January) \\\\u2013 Men's Singles \\\\n 1977 Australian Open (December)\\n                    \\\\u2013 Men's Singles \\\\n\\\\n \\\\n List of\\n                    sports-related pages with the same or similar names \\\\nThis article includes a list of sports-related pages with the same or similar names. If an internal link for a specific sport article referred you to this page,\\n                you may wish to change the link to point directly to the intended sport article, if one exists. \\\\n \\\\n \\\\n\\\\n\""
      ]
     },
     "execution_count": 14,
     "metadata": {},
     "output_type": "execute_result"
    }
   ],
   "source": [
    "text"
   ]
  },
  {
   "cell_type": "code",
   "execution_count": 17,
   "metadata": {},
   "outputs": [
    {
     "data": {
      "text/html": [
       "<div>\n",
       "<style scoped>\n",
       "    .dataframe tbody tr th:only-of-type {\n",
       "        vertical-align: middle;\n",
       "    }\n",
       "\n",
       "    .dataframe tbody tr th {\n",
       "        vertical-align: top;\n",
       "    }\n",
       "\n",
       "    .dataframe thead th {\n",
       "        text-align: right;\n",
       "    }\n",
       "</style>\n",
       "<table border=\"1\" class=\"dataframe\">\n",
       "  <thead>\n",
       "    <tr style=\"text-align: right;\">\n",
       "      <th></th>\n",
       "      <th>id</th>\n",
       "      <th>title</th>\n",
       "      <th>contents</th>\n",
       "    </tr>\n",
       "  </thead>\n",
       "  <tbody>\n",
       "    <tr>\n",
       "      <th>0</th>\n",
       "      <td>1512303</td>\n",
       "      <td>James Bond in video games</td>\n",
       "      <td>&lt;!DOCTYPE html&gt;\\n&lt;html prefix=\"dc: http://purl...</td>\n",
       "    </tr>\n",
       "    <tr>\n",
       "      <th>1</th>\n",
       "      <td>11684110</td>\n",
       "      <td>1977 Australian Open – Men's singles</td>\n",
       "      <td>&lt;!DOCTYPE html&gt;\\n&lt;html prefix=\"dc: http://purl...</td>\n",
       "    </tr>\n",
       "  </tbody>\n",
       "</table>\n",
       "</div>"
      ],
      "text/plain": [
       "         id                                 title  \\\n",
       "0   1512303             James Bond in video games   \n",
       "1  11684110  1977 Australian Open – Men's singles   \n",
       "\n",
       "                                            contents  \n",
       "0  <!DOCTYPE html>\\n<html prefix=\"dc: http://purl...  \n",
       "1  <!DOCTYPE html>\\n<html prefix=\"dc: http://purl...  "
      ]
     },
     "execution_count": 17,
     "metadata": {},
     "output_type": "execute_result"
    }
   ],
   "source": [
    "import pandas as pd \n",
    "df = pd.read_json(\"20Lines2.json\", encoding=\"utf-16\", lines=True)\n",
    "df"
   ]
  },
  {
   "cell_type": "code",
   "execution_count": 26,
   "metadata": {},
   "outputs": [
    {
     "data": {
      "text/plain": [
       "2"
      ]
     },
     "execution_count": 26,
     "metadata": {},
     "output_type": "execute_result"
    }
   ],
   "source": [
    "len(df)"
   ]
  },
  {
   "cell_type": "code",
   "execution_count": 23,
   "metadata": {},
   "outputs": [],
   "source": [
    "text = ' '.join(BeautifulSoup(df.contents[1], \"html.parser\").stripped_strings)"
   ]
  },
  {
   "cell_type": "code",
   "execution_count": 24,
   "metadata": {},
   "outputs": [
    {
     "data": {
      "text/plain": [
       "\"1977 Australian Open – Men's singles There were two Australian Opens in 1977: 1977 Australian Open (January) – Men's Singles 1977 Australian Open (December) – Men's Singles List of sports-related pages with the same or similar names This article includes a list of sports-related pages with the same or similar names. If an internal link for a specific sport article referred you to this page, you may wish to change the link to point directly to the intended sport article, if one exists.\""
      ]
     },
     "execution_count": 24,
     "metadata": {},
     "output_type": "execute_result"
    }
   ],
   "source": [
    "text"
   ]
  }
 ],
 "metadata": {
  "kernelspec": {
   "display_name": "Python 3.9.2 64-bit",
   "language": "python",
   "name": "python3"
  },
  "language_info": {
   "codemirror_mode": {
    "name": "ipython",
    "version": 3
   },
   "file_extension": ".py",
   "mimetype": "text/x-python",
   "name": "python",
   "nbconvert_exporter": "python",
   "pygments_lexer": "ipython3",
   "version": "3.9.2"
  },
  "orig_nbformat": 4,
  "vscode": {
   "interpreter": {
    "hash": "aee8b7b246df8f9039afb4144a1f6fd8d2ca17a180786b69acc140d282b71a49"
   }
  }
 },
 "nbformat": 4,
 "nbformat_minor": 2
}
